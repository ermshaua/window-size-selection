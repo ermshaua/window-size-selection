{
 "cells": [
  {
   "cell_type": "markdown",
   "metadata": {},
   "source": [
    "# Comparative Analysis\n",
    "In this notebook, we compare Window with different window size detection techniques."
   ]
  },
  {
   "cell_type": "code",
   "execution_count": 1,
   "metadata": {},
   "outputs": [],
   "source": [
    "import matplotlib\n",
    "\n",
    "matplotlib.rcParams['pdf.fonttype'] = 42\n",
    "matplotlib.rcParams['ps.fonttype'] = 42"
   ]
  },
  {
   "cell_type": "code",
   "execution_count": 2,
   "metadata": {},
   "outputs": [],
   "source": [
    "import numpy as np\n",
    "import pandas as pd\n",
    "import daproli as dp\n",
    "\n",
    "import pandas as pd\n",
    "pd.set_option('display.max_rows', None)\n",
    "\n",
    "import matplotlib.pyplot as plt\n",
    "import seaborn as sns\n",
    "\n",
    "sns.set_theme()\n",
    "sns.set_color_codes()\n",
    "\n",
    "import Orange\n",
    "import sys\n",
    "sys.path.append(\"../\")\n",
    "\n",
    "from tqdm import tqdm"
   ]
  },
  {
   "cell_type": "markdown",
   "metadata": {},
   "source": [
    "Let's choose a score for evaluation: F1"
   ]
  },
  {
   "cell_type": "code",
   "execution_count": 3,
   "metadata": {},
   "outputs": [],
   "source": [
    "eval_score = \"f1_score\""
   ]
  },
  {
   "cell_type": "markdown",
   "metadata": {},
   "source": [
    "Let's load the scores from the different methods."
   ]
  },
  {
   "cell_type": "code",
   "execution_count": 4,
   "metadata": {},
   "outputs": [],
   "source": [
    "wsd = [\"Human\", \"FFT\", \"ACF\", \"SuSS\", \"MWF\", \"Autoperiod\", \"RobustPeriod\"] # \n",
    "\n",
    "methods = list()\n",
    "\n",
    "for algo in wsd:\n",
    "    candidate_name = f\"window_{algo}\"\n",
    "    methods.append((algo, f\"{candidate_name}.csv\"))\n",
    "\n",
    "for idx, (name, file_name) in enumerate(methods):\n",
    "    methods[idx] = name, pd.read_csv(f\"../experiments/segmentation/window/{file_name}\")\n",
    "    \n",
    "df_scores = pd.DataFrame()\n",
    "\n",
    "for name, df in methods:\n",
    "    df_scores[\"name\"] = df.name\n",
    "    df_scores[name] = df[eval_score]"
   ]
  },
  {
   "cell_type": "markdown",
   "metadata": {},
   "source": [
    "Let's calculate the mean/std score."
   ]
  },
  {
   "cell_type": "code",
   "execution_count": 5,
   "metadata": {},
   "outputs": [
    {
     "name": "stderr",
     "output_type": "stream",
     "text": [
      "/var/folders/5_/fv_bzq1n4n76j6l_jqgndj6c0000gn/T/ipykernel_4272/3278697802.py:1: FutureWarning: Dropping of nuisance columns in DataFrame reductions (with 'numeric_only=None') is deprecated; in a future version this will raise TypeError.  Select only valid columns before calling the reduction.\n",
      "  df_scores.mean(axis=0)\n"
     ]
    },
    {
     "data": {
      "text/plain": "Human           0.432217\nFFT             0.419723\nACF             0.435108\nSuSS            0.452735\nMWF             0.392627\nAutoperiod      0.399831\nRobustPeriod    0.392157\ndtype: float64"
     },
     "execution_count": 5,
     "metadata": {},
     "output_type": "execute_result"
    }
   ],
   "source": [
    "df_scores.mean(axis=0)"
   ]
  },
  {
   "cell_type": "code",
   "execution_count": 6,
   "metadata": {},
   "outputs": [
    {
     "name": "stderr",
     "output_type": "stream",
     "text": [
      "/var/folders/5_/fv_bzq1n4n76j6l_jqgndj6c0000gn/T/ipykernel_4272/4283968224.py:1: FutureWarning: Dropping of nuisance columns in DataFrame reductions (with 'numeric_only=None') is deprecated; in a future version this will raise TypeError.  Select only valid columns before calling the reduction.\n",
      "  df_scores.std(axis=0)\n"
     ]
    },
    {
     "data": {
      "text/plain": "Human           0.220700\nFFT             0.222331\nACF             0.213818\nSuSS            0.207864\nMWF             0.225398\nAutoperiod      0.221187\nRobustPeriod    0.253676\ndtype: float64"
     },
     "execution_count": 6,
     "metadata": {},
     "output_type": "execute_result"
    }
   ],
   "source": [
    "df_scores.std(axis=0)"
   ]
  },
  {
   "cell_type": "markdown",
   "metadata": {},
   "source": [
    "Let's compute the wins per method."
   ]
  },
  {
   "cell_type": "code",
   "execution_count": 7,
   "metadata": {},
   "outputs": [],
   "source": [
    "ranks = df_scores.rank(1, method = 'min', ascending=False)\n",
    "means = np.array(ranks.mean(axis=0))"
   ]
  },
  {
   "cell_type": "code",
   "execution_count": 8,
   "metadata": {
    "scrolled": true
   },
   "outputs": [
    {
     "name": "stdout",
     "output_type": "stream",
     "text": [
      "Human:wins=58 rank=1.6506\n",
      "FFT:wins=54 rank=1.49398\n",
      "ACF:wins=59 rank=1.44578\n",
      "SuSS:wins=65 rank=1.3494\n",
      "MWF:wins=51 rank=1.74699\n",
      "Autoperiod:wins=53 rank=1.75904\n",
      "RobustPeriod:wins=52 rank=2.14458\n"
     ]
    }
   ],
   "source": [
    "for mean, name in zip(means, df_scores.columns[1:]):\n",
    "    print(f\"{name}:wins={ranks[ranks[name] == 1].shape[0]} rank={np.round(mean, 5)}\")"
   ]
  },
  {
   "cell_type": "markdown",
   "metadata": {},
   "source": [
    "Let's plot and output the ranks."
   ]
  },
  {
   "cell_type": "code",
   "execution_count": 10,
   "metadata": {},
   "outputs": [
    {
     "data": {
      "text/plain": "<Figure size 360x133.2 with 1 Axes>",
      "image/png": "[encoded data removed]"
     },
     "metadata": {},
     "output_type": "display_data"
    }
   ],
   "source": [
    "cd = Orange.evaluation.scoring.compute_CD(means, df_scores.shape[0])\n",
    "Orange.evaluation.scoring.graph_ranks(means, df_scores.columns[1:], cd=cd, highv=3, width=5, reverse=True, textspace=1, )\n",
    "plt.title(\"Window\", fontsize=16)\n",
    "plt.show()"
   ]
  },
  {
   "cell_type": "markdown",
   "metadata": {},
   "source": [
    "Let's compute wins/losses against Human."
   ]
  },
  {
   "cell_type": "code",
   "execution_count": 11,
   "metadata": {
    "pycharm": {
     "name": "#%%\n"
    }
   },
   "outputs": [
    {
     "name": "stdout",
     "output_type": "stream",
     "text": [
      "Human vs FFT: (wins/ties/losses): 9/68/6\n",
      "Human vs ACF: (wins/ties/losses): 9/63/11\n",
      "Human vs SuSS: (wins/ties/losses): 10/57/16\n",
      "Human vs MWF: (wins/ties/losses): 13/63/7\n",
      "Human vs Autoperiod: (wins/ties/losses): 13/63/7\n",
      "Human vs RobustPeriod: (wins/ties/losses): 15/61/7\n"
     ]
    }
   ],
   "source": [
    "selection = \"Human\"\n",
    "\n",
    "for rival in df_scores.columns[1:]:\n",
    "    if rival == selection: continue\n",
    "    \n",
    "    df_pair = df_scores[[selection, rival]]\n",
    "    pair_ranks = df_pair.rank(1, method = 'min', ascending=False)\n",
    "    \n",
    "    wins = pair_ranks[(pair_ranks[selection] == 1) & (pair_ranks[rival] == 2)].shape[0]\n",
    "    losses = pair_ranks[(pair_ranks[selection] == 2) & (pair_ranks[rival] == 1)].shape[0]\n",
    "    ties = pair_ranks[(pair_ranks[selection] == 1) & (pair_ranks[rival] == 1)].shape[0]\n",
    "    \n",
    "    assert wins + losses + ties == pair_ranks.shape[0]\n",
    "    \n",
    "    print(f\"{selection} vs {rival}: (wins/ties/losses): {wins}/{ties}/{losses}\")"
   ]
  }
 ],
 "metadata": {
  "kernelspec": {
   "display_name": "Python 3 (ipykernel)",
   "language": "python",
   "name": "python3"
  },
  "language_info": {
   "codemirror_mode": {
    "name": "ipython",
    "version": 3
   },
   "file_extension": ".py",
   "mimetype": "text/x-python",
   "name": "python",
   "nbconvert_exporter": "python",
   "pygments_lexer": "ipython3",
   "version": "3.8.12"
  }
 },
 "nbformat": 4,
 "nbformat_minor": 4
}