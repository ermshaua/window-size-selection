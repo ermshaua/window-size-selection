{
 "cells": [
  {
   "cell_type": "markdown",
   "metadata": {},
   "source": [
    "# Comparative Analysis\n",
    "In this notebook, we compare ClaSP with different window size detection techniques."
   ]
  },
  {
   "cell_type": "code",
   "execution_count": 1,
   "metadata": {},
   "outputs": [],
   "source": [
    "import matplotlib\n",
    "\n",
    "matplotlib.rcParams['pdf.fonttype'] = 42\n",
    "matplotlib.rcParams['ps.fonttype'] = 42"
   ]
  },
  {
   "cell_type": "code",
   "execution_count": 2,
   "metadata": {},
   "outputs": [],
   "source": [
    "import numpy as np\n",
    "import pandas as pd\n",
    "import daproli as dp\n",
    "\n",
    "import pandas as pd\n",
    "pd.set_option('display.max_rows', None)\n",
    "\n",
    "import matplotlib.pyplot as plt\n",
    "import seaborn as sns\n",
    "\n",
    "sns.set_theme()\n",
    "sns.set_color_codes()\n",
    "\n",
    "import Orange\n",
    "import sys\n",
    "sys.path.append(\"../\")\n",
    "\n",
    "from tqdm import tqdm"
   ]
  },
  {
   "cell_type": "markdown",
   "metadata": {},
   "source": [
    "Let's choose a score for evaluation: F1."
   ]
  },
  {
   "cell_type": "code",
   "execution_count": 3,
   "metadata": {},
   "outputs": [],
   "source": [
    "eval_score = \"f1_score\""
   ]
  },
  {
   "cell_type": "markdown",
   "metadata": {},
   "source": [
    "Let's load the scores from the different methods."
   ]
  },
  {
   "cell_type": "code",
   "execution_count": 4,
   "metadata": {},
   "outputs": [
    {
     "data": {
      "text/plain": "                              name  Human    FFT    ACF   SuSS    MWF  \\\n0                            Adiac  1.000  0.500  0.500  0.500  0.500   \n1                        ArrowHead  1.000  1.000  0.500  1.000  1.000   \n2                             Beef  0.500  0.500  0.667  0.500  0.667   \n3                        BeetleFly  1.000  0.500  0.667  0.500  0.500   \n4                      BirdChicken  1.000  0.500  0.667  1.000  1.000   \n5                              Car  0.750  0.750  0.750  0.750  0.750   \n6                              CBF  1.000  0.400  0.400  0.400  0.000   \n7            ChlorineConcentration  1.000  0.500  0.500  0.500  0.500   \n8                     CinCECGTorso  1.000  0.333  0.500  0.333  0.400   \n9                           Coffee  1.000  1.000  1.000  1.000  1.000   \n10                       Computers  0.500  0.500  0.500  0.500  0.500   \n11                        CricketX  1.000  1.000  1.000  1.000  1.000   \n12                        CricketY  1.000  1.000  1.000  1.000  1.000   \n13                        CricketZ  0.800  0.800  0.286  0.600  1.000   \n14             DiatomSizeReduction  1.000  0.800  0.800  0.667  0.800   \n15    DistalPhalanxOutlineAgeGroup  0.500  0.500  0.500  0.500  0.500   \n16                 DistalPhalanxTW  0.667  0.667  0.667  0.667  0.667   \n17                     Earthquakes  0.500  0.500  0.667  0.500  0.500   \n18                          ECG200  1.000  1.000  0.500  0.500  1.000   \n19                         ECG5000  1.000  1.000  1.000  1.000  1.000   \n20                     ECGFiveDays  1.000  1.000  0.667  0.667  0.000   \n21                 ElectricDevices  1.000  1.000  0.600  0.600  0.800   \n22                         FaceAll  1.000  1.000  1.000  1.000  1.000   \n23                        FaceFour  1.000  1.000  0.333  1.000  1.000   \n24                        FacesUCR  1.000  0.857  0.222  1.000  1.000   \n25                      FiftyWords  1.000  0.750  0.750  0.750  0.750   \n26                            Fish  1.000  1.000  1.000  1.000  1.000   \n27                        GunPoint  1.000  0.500  0.500  0.500  0.500   \n28                         Haptics  0.333  1.000  1.000  1.000  1.000   \n29                     InlineSkate  0.333  0.333  0.500  0.333  0.333   \n30             InsectWingbeatSound  1.000  0.750  0.333  0.750  0.750   \n31                ItalyPowerDemand  1.000  1.000  0.500  0.500  1.000   \n32          LargeKitchenAppliances  0.667  0.333  0.333  0.333  0.333   \n33                      Lightning2  1.000  1.000  0.667  0.500  1.000   \n34                      Lightning7  0.800  0.250  0.333  0.600  0.250   \n35                          Mallat  1.000  1.000  0.333  1.000  0.571   \n36                            Meat  1.000  1.000  0.667  1.000  0.667   \n37                   MedicalImages  1.000  0.500  0.500  0.500  0.500   \n38                      MoteStrain  1.000  0.667  0.667  0.500  0.667   \n39      NonInvasiveFetalECGThorax1  1.000  0.833  0.833  0.833  0.833   \n40      NonInvasiveFetalECGThorax2  1.000  1.000  1.000  1.000  1.000   \n41                        OliveOil  1.000  0.800  0.800  1.000  0.800   \n42                         OSULeaf  1.000  1.000  0.667  1.000  0.667   \n43                           Plane  1.000  1.000  0.857  1.000  1.000   \n44  ProximalPhalanxOutlineAgeGroup  0.667  0.667  0.667  0.667  0.667   \n45               ProximalPhalanxTW  1.000  1.000  1.000  1.000  1.000   \n46                       ShapesAll  1.000  1.000  0.250  1.000  1.000   \n47           SonyAIBORobotSurface1  1.000  0.500  0.667  1.000  0.500   \n48           SonyAIBORobotSurface2  1.000  0.500  0.667  0.500  0.500   \n49                 StarLightCurves  1.000  1.000  1.000  1.000  1.000   \n50                     SwedishLeaf  1.000  1.000  1.000  1.000  1.000   \n51                         Symbols  0.750  0.400  0.400  0.333  0.400   \n52                SyntheticControl  1.000  1.000  1.000  1.000  1.000   \n53                ToeSegmentation1  1.000  1.000  1.000  0.500  0.500   \n54                ToeSegmentation2  1.000  0.500  0.500  0.500  0.500   \n55                           Trace  1.000  0.667  0.667  1.000  0.667   \n56                      TwoLeadECG  1.000  0.500  0.667  0.667  0.000   \n57                     TwoPatterns  1.000  1.000  0.750  1.000  1.000   \n58          UWaveGestureLibraryAll  1.000  1.000  1.000  1.000  1.000   \n59            UWaveGestureLibraryX  1.000  1.000  1.000  1.000  1.000   \n60            UWaveGestureLibraryY  1.000  1.000  1.000  1.000  1.000   \n61            UWaveGestureLibraryZ  0.800  0.800  0.800  1.000  0.800   \n62                           Wafer  0.500  1.000  0.667  0.500  1.000   \n63                    WordSynonyms  1.000  0.333  0.400  0.333  0.333   \n64                           Worms  1.000  1.000  0.333  0.667  0.667   \n65                            Yoga  1.000  1.000  0.500  1.000  1.000   \n66                            Crop  1.000  1.000  1.000  1.000  1.000   \n67             EOGHorizontalSignal  0.500  0.250  0.250  0.250  0.250   \n68               EOGVerticalSignal  0.667  1.000  1.000  1.000  1.000   \n69             FreezerRegularTrain  0.500  0.500  0.500  0.250  0.500   \n70                             Ham  0.333  0.500  0.250  0.500  0.250   \n71             MelbournePedestrian  1.000  1.000  1.000  1.000  1.000   \n72    MiddlePhalanxOutlineAgeGroup  0.889  0.800  0.800  0.889  0.800   \n73     MiddlePhalanxOutlineCorrect  0.750  0.750  0.750  0.750  0.750   \n74                       PowerCons  0.750  0.750  1.000  0.750  0.750   \n75   ProximalPhalanxOutlineCorrect  0.500  0.500  0.500  0.500  0.500   \n76                      Strawberry  0.500  0.500  0.250  0.500  0.500   \n77                       Chinatown  1.000  1.000  1.000  1.000  0.000   \n78                   DodgerLoopDay  1.000  1.000  1.000  1.000  1.000   \n79                         Herring  1.000  1.000  1.000  1.000  1.000   \n80                 MiddlePhalanxTW  1.000  1.000  1.000  1.000  1.000   \n81                     ShapeletSim  1.000  1.000  1.000  1.000  1.000   \n82                             UMD  1.000  1.000  1.000  1.000  1.000   \n\n    Autoperiod  RobustPeriod  \n0        0.500         1.000  \n1        1.000         1.000  \n2        0.500         0.500  \n3        0.500         0.500  \n4        0.500         0.500  \n5        0.750         0.750  \n6        0.400         0.500  \n7        0.500         0.500  \n8        0.400         0.000  \n9        1.000         0.500  \n10       0.500         0.500  \n11       1.000         0.500  \n12       1.000         1.000  \n13       1.000         0.333  \n14       0.800         1.000  \n15       0.500         0.500  \n16       0.667         0.333  \n17       0.500         0.500  \n18       1.000         0.500  \n19       1.000         1.000  \n20       0.500         1.000  \n21       0.000         0.000  \n22       0.000         1.000  \n23       1.000         1.000  \n24       0.857         1.000  \n25       0.750         0.750  \n26       1.000         1.000  \n27       0.500         0.500  \n28       1.000         0.667  \n29       0.333         0.333  \n30       0.750         0.400  \n31       1.000         1.000  \n32       0.333         0.333  \n33       1.000         0.500  \n34       0.250         0.750  \n35       1.000         0.333  \n36       0.667         1.000  \n37       0.500         1.000  \n38       0.667         1.000  \n39       0.833         0.833  \n40       1.000         1.000  \n41       0.800         1.000  \n42       1.000         0.800  \n43       1.000         1.000  \n44       0.667         0.333  \n45       1.000         0.750  \n46       1.000         1.000  \n47       0.500         1.000  \n48       0.500         0.500  \n49       0.000         0.333  \n50       1.000         1.000  \n51       0.400         0.500  \n52       1.000         0.286  \n53       1.000         0.500  \n54       0.500         0.500  \n55       0.667         1.000  \n56       0.500         0.000  \n57       1.000         1.000  \n58       0.600         1.000  \n59       0.800         1.000  \n60       0.600         0.444  \n61       0.800         1.000  \n62       0.500         0.667  \n63       0.333         1.000  \n64       0.667         0.000  \n65       1.000         1.000  \n66       1.000         1.000  \n67       0.250         0.500  \n68       1.000         0.667  \n69       0.500         0.750  \n70       0.500         0.500  \n71       1.000         1.000  \n72       0.800         0.889  \n73       0.750         0.500  \n74       0.286         0.286  \n75       0.500         0.250  \n76       0.250         0.250  \n77       1.000         1.000  \n78       1.000         1.000  \n79       1.000         1.000  \n80       1.000         1.000  \n81       1.000         1.000  \n82       1.000         1.000  ",
      "text/html": "<div>\n<style scoped>\n    .dataframe tbody tr th:only-of-type {\n        vertical-align: middle;\n    }\n\n    .dataframe tbody tr th {\n        vertical-align: top;\n    }\n\n    .dataframe thead th {\n        text-align: right;\n    }\n</style>\n<table border=\"1\" class=\"dataframe\">\n  <thead>\n    <tr style=\"text-align: right;\">\n      <th></th>\n      <th>name</th>\n      <th>Human</th>\n      <th>FFT</th>\n      <th>ACF</th>\n      <th>SuSS</th>\n      <th>MWF</th>\n      <th>Autoperiod</th>\n      <th>RobustPeriod</th>\n    </tr>\n  </thead>\n  <tbody>\n    <tr>\n      <th>0</th>\n      <td>Adiac</td>\n      <td>1.000</td>\n      <td>0.500</td>\n      <td>0.500</td>\n      <td>0.500</td>\n      <td>0.500</td>\n      <td>0.500</td>\n      <td>1.000</td>\n    </tr>\n    <tr>\n      <th>1</th>\n      <td>ArrowHead</td>\n      <td>1.000</td>\n      <td>1.000</td>\n      <td>0.500</td>\n      <td>1.000</td>\n      <td>1.000</td>\n      <td>1.000</td>\n      <td>1.000</td>\n    </tr>\n    <tr>\n      <th>2</th>\n      <td>Beef</td>\n      <td>0.500</td>\n      <td>0.500</td>\n      <td>0.667</td>\n      <td>0.500</td>\n      <td>0.667</td>\n      <td>0.500</td>\n      <td>0.500</td>\n    </tr>\n    <tr>\n      <th>3</th>\n      <td>BeetleFly</td>\n      <td>1.000</td>\n      <td>0.500</td>\n      <td>0.667</td>\n      <td>0.500</td>\n      <td>0.500</td>\n      <td>0.500</td>\n      <td>0.500</td>\n    </tr>\n    <tr>\n      <th>4</th>\n      <td>BirdChicken</td>\n      <td>1.000</td>\n      <td>0.500</td>\n      <td>0.667</td>\n      <td>1.000</td>\n      <td>1.000</td>\n      <td>0.500</td>\n      <td>0.500</td>\n    </tr>\n    <tr>\n      <th>5</th>\n      <td>Car</td>\n      <td>0.750</td>\n      <td>0.750</td>\n      <td>0.750</td>\n      <td>0.750</td>\n      <td>0.750</td>\n      <td>0.750</td>\n      <td>0.750</td>\n    </tr>\n    <tr>\n      <th>6</th>\n      <td>CBF</td>\n      <td>1.000</td>\n      <td>0.400</td>\n      <td>0.400</td>\n      <td>0.400</td>\n      <td>0.000</td>\n      <td>0.400</td>\n      <td>0.500</td>\n    </tr>\n    <tr>\n      <th>7</th>\n      <td>ChlorineConcentration</td>\n      <td>1.000</td>\n      <td>0.500</td>\n      <td>0.500</td>\n      <td>0.500</td>\n      <td>0.500</td>\n      <td>0.500</td>\n      <td>0.500</td>\n    </tr>\n    <tr>\n      <th>8</th>\n      <td>CinCECGTorso</td>\n      <td>1.000</td>\n      <td>0.333</td>\n      <td>0.500</td>\n      <td>0.333</td>\n      <td>0.400</td>\n      <td>0.400</td>\n      <td>0.000</td>\n    </tr>\n    <tr>\n      <th>9</th>\n      <td>Coffee</td>\n      <td>1.000</td>\n      <td>1.000</td>\n      <td>1.000</td>\n      <td>1.000</td>\n      <td>1.000</td>\n      <td>1.000</td>\n      <td>0.500</td>\n    </tr>\n    <tr>\n      <th>10</th>\n      <td>Computers</td>\n      <td>0.500</td>\n      <td>0.500</td>\n      <td>0.500</td>\n      <td>0.500</td>\n      <td>0.500</td>\n      <td>0.500</td>\n      <td>0.500</td>\n    </tr>\n    <tr>\n      <th>11</th>\n      <td>CricketX</td>\n      <td>1.000</td>\n      <td>1.000</td>\n      <td>1.000</td>\n      <td>1.000</td>\n      <td>1.000</td>\n      <td>1.000</td>\n      <td>0.500</td>\n    </tr>\n    <tr>\n      <th>12</th>\n      <td>CricketY</td>\n      <td>1.000</td>\n      <td>1.000</td>\n      <td>1.000</td>\n      <td>1.000</td>\n      <td>1.000</td>\n      <td>1.000</td>\n      <td>1.000</td>\n    </tr>\n    <tr>\n      <th>13</th>\n      <td>CricketZ</td>\n      <td>0.800</td>\n      <td>0.800</td>\n      <td>0.286</td>\n      <td>0.600</td>\n      <td>1.000</td>\n      <td>1.000</td>\n      <td>0.333</td>\n    </tr>\n    <tr>\n      <th>14</th>\n      <td>DiatomSizeReduction</td>\n      <td>1.000</td>\n      <td>0.800</td>\n      <td>0.800</td>\n      <td>0.667</td>\n      <td>0.800</td>\n      <td>0.800</td>\n      <td>1.000</td>\n    </tr>\n    <tr>\n      <th>15</th>\n      <td>DistalPhalanxOutlineAgeGroup</td>\n      <td>0.500</td>\n      <td>0.500</td>\n      <td>0.500</td>\n      <td>0.500</td>\n      <td>0.500</td>\n      <td>0.500</td>\n      <td>0.500</td>\n    </tr>\n    <tr>\n      <th>16</th>\n      <td>DistalPhalanxTW</td>\n      <td>0.667</td>\n      <td>0.667</td>\n      <td>0.667</td>\n      <td>0.667</td>\n      <td>0.667</td>\n      <td>0.667</td>\n      <td>0.333</td>\n    </tr>\n    <tr>\n      <th>17</th>\n      <td>Earthquakes</td>\n      <td>0.500</td>\n      <td>0.500</td>\n      <td>0.667</td>\n      <td>0.500</td>\n      <td>0.500</td>\n      <td>0.500</td>\n      <td>0.500</td>\n    </tr>\n    <tr>\n      <th>18</th>\n      <td>ECG200</td>\n      <td>1.000</td>\n      <td>1.000</td>\n      <td>0.500</td>\n      <td>0.500</td>\n      <td>1.000</td>\n      <td>1.000</td>\n      <td>0.500</td>\n    </tr>\n    <tr>\n      <th>19</th>\n      <td>ECG5000</td>\n      <td>1.000</td>\n      <td>1.000</td>\n      <td>1.000</td>\n      <td>1.000</td>\n      <td>1.000</td>\n      <td>1.000</td>\n      <td>1.000</td>\n    </tr>\n    <tr>\n      <th>20</th>\n      <td>ECGFiveDays</td>\n      <td>1.000</td>\n      <td>1.000</td>\n      <td>0.667</td>\n      <td>0.667</td>\n      <td>0.000</td>\n      <td>0.500</td>\n      <td>1.000</td>\n    </tr>\n    <tr>\n      <th>21</th>\n      <td>ElectricDevices</td>\n      <td>1.000</td>\n      <td>1.000</td>\n      <td>0.600</td>\n      <td>0.600</td>\n      <td>0.800</td>\n      <td>0.000</td>\n      <td>0.000</td>\n    </tr>\n    <tr>\n      <th>22</th>\n      <td>FaceAll</td>\n      <td>1.000</td>\n      <td>1.000</td>\n      <td>1.000</td>\n      <td>1.000</td>\n      <td>1.000</td>\n      <td>0.000</td>\n      <td>1.000</td>\n    </tr>\n    <tr>\n      <th>23</th>\n      <td>FaceFour</td>\n      <td>1.000</td>\n      <td>1.000</td>\n      <td>0.333</td>\n      <td>1.000</td>\n      <td>1.000</td>\n      <td>1.000</td>\n      <td>1.000</td>\n    </tr>\n    <tr>\n      <th>24</th>\n      <td>FacesUCR</td>\n      <td>1.000</td>\n      <td>0.857</td>\n      <td>0.222</td>\n      <td>1.000</td>\n      <td>1.000</td>\n      <td>0.857</td>\n      <td>1.000</td>\n    </tr>\n    <tr>\n      <th>25</th>\n      <td>FiftyWords</td>\n      <td>1.000</td>\n      <td>0.750</td>\n      <td>0.750</td>\n      <td>0.750</td>\n      <td>0.750</td>\n      <td>0.750</td>\n      <td>0.750</td>\n    </tr>\n    <tr>\n      <th>26</th>\n      <td>Fish</td>\n      <td>1.000</td>\n      <td>1.000</td>\n      <td>1.000</td>\n      <td>1.000</td>\n      <td>1.000</td>\n      <td>1.000</td>\n      <td>1.000</td>\n    </tr>\n    <tr>\n      <th>27</th>\n      <td>GunPoint</td>\n      <td>1.000</td>\n      <td>0.500</td>\n      <td>0.500</td>\n      <td>0.500</td>\n      <td>0.500</td>\n      <td>0.500</td>\n      <td>0.500</td>\n    </tr>\n    <tr>\n      <th>28</th>\n      <td>Haptics</td>\n      <td>0.333</td>\n      <td>1.000</td>\n      <td>1.000</td>\n      <td>1.000</td>\n      <td>1.000</td>\n      <td>1.000</td>\n      <td>0.667</td>\n    </tr>\n    <tr>\n      <th>29</th>\n      <td>InlineSkate</td>\n      <td>0.333</td>\n      <td>0.333</td>\n      <td>0.500</td>\n      <td>0.333</td>\n      <td>0.333</td>\n      <td>0.333</td>\n      <td>0.333</td>\n    </tr>\n    <tr>\n      <th>30</th>\n      <td>InsectWingbeatSound</td>\n      <td>1.000</td>\n      <td>0.750</td>\n      <td>0.333</td>\n      <td>0.750</td>\n      <td>0.750</td>\n      <td>0.750</td>\n      <td>0.400</td>\n    </tr>\n    <tr>\n      <th>31</th>\n      <td>ItalyPowerDemand</td>\n      <td>1.000</td>\n      <td>1.000</td>\n      <td>0.500</td>\n      <td>0.500</td>\n      <td>1.000</td>\n      <td>1.000</td>\n      <td>1.000</td>\n    </tr>\n    <tr>\n      <th>32</th>\n      <td>LargeKitchenAppliances</td>\n      <td>0.667</td>\n      <td>0.333</td>\n      <td>0.333</td>\n      <td>0.333</td>\n      <td>0.333</td>\n      <td>0.333</td>\n      <td>0.333</td>\n    </tr>\n    <tr>\n      <th>33</th>\n      <td>Lightning2</td>\n      <td>1.000</td>\n      <td>1.000</td>\n      <td>0.667</td>\n      <td>0.500</td>\n      <td>1.000</td>\n      <td>1.000</td>\n      <td>0.500</td>\n    </tr>\n    <tr>\n      <th>34</th>\n      <td>Lightning7</td>\n      <td>0.800</td>\n      <td>0.250</td>\n      <td>0.333</td>\n      <td>0.600</td>\n      <td>0.250</td>\n      <td>0.250</td>\n      <td>0.750</td>\n    </tr>\n    <tr>\n      <th>35</th>\n      <td>Mallat</td>\n      <td>1.000</td>\n      <td>1.000</td>\n      <td>0.333</td>\n      <td>1.000</td>\n      <td>0.571</td>\n      <td>1.000</td>\n      <td>0.333</td>\n    </tr>\n    <tr>\n      <th>36</th>\n      <td>Meat</td>\n      <td>1.000</td>\n      <td>1.000</td>\n      <td>0.667</td>\n      <td>1.000</td>\n      <td>0.667</td>\n      <td>0.667</td>\n      <td>1.000</td>\n    </tr>\n    <tr>\n      <th>37</th>\n      <td>MedicalImages</td>\n      <td>1.000</td>\n      <td>0.500</td>\n      <td>0.500</td>\n      <td>0.500</td>\n      <td>0.500</td>\n      <td>0.500</td>\n      <td>1.000</td>\n    </tr>\n    <tr>\n      <th>38</th>\n      <td>MoteStrain</td>\n      <td>1.000</td>\n      <td>0.667</td>\n      <td>0.667</td>\n      <td>0.500</td>\n      <td>0.667</td>\n      <td>0.667</td>\n      <td>1.000</td>\n    </tr>\n    <tr>\n      <th>39</th>\n      <td>NonInvasiveFetalECGThorax1</td>\n      <td>1.000</td>\n      <td>0.833</td>\n      <td>0.833</td>\n      <td>0.833</td>\n      <td>0.833</td>\n      <td>0.833</td>\n      <td>0.833</td>\n    </tr>\n    <tr>\n      <th>40</th>\n      <td>NonInvasiveFetalECGThorax2</td>\n      <td>1.000</td>\n      <td>1.000</td>\n      <td>1.000</td>\n      <td>1.000</td>\n      <td>1.000</td>\n      <td>1.000</td>\n      <td>1.000</td>\n    </tr>\n    <tr>\n      <th>41</th>\n      <td>OliveOil</td>\n      <td>1.000</td>\n      <td>0.800</td>\n      <td>0.800</td>\n      <td>1.000</td>\n      <td>0.800</td>\n      <td>0.800</td>\n      <td>1.000</td>\n    </tr>\n    <tr>\n      <th>42</th>\n      <td>OSULeaf</td>\n      <td>1.000</td>\n      <td>1.000</td>\n      <td>0.667</td>\n      <td>1.000</td>\n      <td>0.667</td>\n      <td>1.000</td>\n      <td>0.800</td>\n    </tr>\n    <tr>\n      <th>43</th>\n      <td>Plane</td>\n      <td>1.000</td>\n      <td>1.000</td>\n      <td>0.857</td>\n      <td>1.000</td>\n      <td>1.000</td>\n      <td>1.000</td>\n      <td>1.000</td>\n    </tr>\n    <tr>\n      <th>44</th>\n      <td>ProximalPhalanxOutlineAgeGroup</td>\n      <td>0.667</td>\n      <td>0.667</td>\n      <td>0.667</td>\n      <td>0.667</td>\n      <td>0.667</td>\n      <td>0.667</td>\n      <td>0.333</td>\n    </tr>\n    <tr>\n      <th>45</th>\n      <td>ProximalPhalanxTW</td>\n      <td>1.000</td>\n      <td>1.000</td>\n      <td>1.000</td>\n      <td>1.000</td>\n      <td>1.000</td>\n      <td>1.000</td>\n      <td>0.750</td>\n    </tr>\n    <tr>\n      <th>46</th>\n      <td>ShapesAll</td>\n      <td>1.000</td>\n      <td>1.000</td>\n      <td>0.250</td>\n      <td>1.000</td>\n      <td>1.000</td>\n      <td>1.000</td>\n      <td>1.000</td>\n    </tr>\n    <tr>\n      <th>47</th>\n      <td>SonyAIBORobotSurface1</td>\n      <td>1.000</td>\n      <td>0.500</td>\n      <td>0.667</td>\n      <td>1.000</td>\n      <td>0.500</td>\n      <td>0.500</td>\n      <td>1.000</td>\n    </tr>\n    <tr>\n      <th>48</th>\n      <td>SonyAIBORobotSurface2</td>\n      <td>1.000</td>\n      <td>0.500</td>\n      <td>0.667</td>\n      <td>0.500</td>\n      <td>0.500</td>\n      <td>0.500</td>\n      <td>0.500</td>\n    </tr>\n    <tr>\n      <th>49</th>\n      <td>StarLightCurves</td>\n      <td>1.000</td>\n      <td>1.000</td>\n      <td>1.000</td>\n      <td>1.000</td>\n      <td>1.000</td>\n      <td>0.000</td>\n      <td>0.333</td>\n    </tr>\n    <tr>\n      <th>50</th>\n      <td>SwedishLeaf</td>\n      <td>1.000</td>\n      <td>1.000</td>\n      <td>1.000</td>\n      <td>1.000</td>\n      <td>1.000</td>\n      <td>1.000</td>\n      <td>1.000</td>\n    </tr>\n    <tr>\n      <th>51</th>\n      <td>Symbols</td>\n      <td>0.750</td>\n      <td>0.400</td>\n      <td>0.400</td>\n      <td>0.333</td>\n      <td>0.400</td>\n      <td>0.400</td>\n      <td>0.500</td>\n    </tr>\n    <tr>\n      <th>52</th>\n      <td>SyntheticControl</td>\n      <td>1.000</td>\n      <td>1.000</td>\n      <td>1.000</td>\n      <td>1.000</td>\n      <td>1.000</td>\n      <td>1.000</td>\n      <td>0.286</td>\n    </tr>\n    <tr>\n      <th>53</th>\n      <td>ToeSegmentation1</td>\n      <td>1.000</td>\n      <td>1.000</td>\n      <td>1.000</td>\n      <td>0.500</td>\n      <td>0.500</td>\n      <td>1.000</td>\n      <td>0.500</td>\n    </tr>\n    <tr>\n      <th>54</th>\n      <td>ToeSegmentation2</td>\n      <td>1.000</td>\n      <td>0.500</td>\n      <td>0.500</td>\n      <td>0.500</td>\n      <td>0.500</td>\n      <td>0.500</td>\n      <td>0.500</td>\n    </tr>\n    <tr>\n      <th>55</th>\n      <td>Trace</td>\n      <td>1.000</td>\n      <td>0.667</td>\n      <td>0.667</td>\n      <td>1.000</td>\n      <td>0.667</td>\n      <td>0.667</td>\n      <td>1.000</td>\n    </tr>\n    <tr>\n      <th>56</th>\n      <td>TwoLeadECG</td>\n      <td>1.000</td>\n      <td>0.500</td>\n      <td>0.667</td>\n      <td>0.667</td>\n      <td>0.000</td>\n      <td>0.500</td>\n      <td>0.000</td>\n    </tr>\n    <tr>\n      <th>57</th>\n      <td>TwoPatterns</td>\n      <td>1.000</td>\n      <td>1.000</td>\n      <td>0.750</td>\n      <td>1.000</td>\n      <td>1.000</td>\n      <td>1.000</td>\n      <td>1.000</td>\n    </tr>\n    <tr>\n      <th>58</th>\n      <td>UWaveGestureLibraryAll</td>\n      <td>1.000</td>\n      <td>1.000</td>\n      <td>1.000</td>\n      <td>1.000</td>\n      <td>1.000</td>\n      <td>0.600</td>\n      <td>1.000</td>\n    </tr>\n    <tr>\n      <th>59</th>\n      <td>UWaveGestureLibraryX</td>\n      <td>1.000</td>\n      <td>1.000</td>\n      <td>1.000</td>\n      <td>1.000</td>\n      <td>1.000</td>\n      <td>0.800</td>\n      <td>1.000</td>\n    </tr>\n    <tr>\n      <th>60</th>\n      <td>UWaveGestureLibraryY</td>\n      <td>1.000</td>\n      <td>1.000</td>\n      <td>1.000</td>\n      <td>1.000</td>\n      <td>1.000</td>\n      <td>0.600</td>\n      <td>0.444</td>\n    </tr>\n    <tr>\n      <th>61</th>\n      <td>UWaveGestureLibraryZ</td>\n      <td>0.800</td>\n      <td>0.800</td>\n      <td>0.800</td>\n      <td>1.000</td>\n      <td>0.800</td>\n      <td>0.800</td>\n      <td>1.000</td>\n    </tr>\n    <tr>\n      <th>62</th>\n      <td>Wafer</td>\n      <td>0.500</td>\n      <td>1.000</td>\n      <td>0.667</td>\n      <td>0.500</td>\n      <td>1.000</td>\n      <td>0.500</td>\n      <td>0.667</td>\n    </tr>\n    <tr>\n      <th>63</th>\n      <td>WordSynonyms</td>\n      <td>1.000</td>\n      <td>0.333</td>\n      <td>0.400</td>\n      <td>0.333</td>\n      <td>0.333</td>\n      <td>0.333</td>\n      <td>1.000</td>\n    </tr>\n    <tr>\n      <th>64</th>\n      <td>Worms</td>\n      <td>1.000</td>\n      <td>1.000</td>\n      <td>0.333</td>\n      <td>0.667</td>\n      <td>0.667</td>\n      <td>0.667</td>\n      <td>0.000</td>\n    </tr>\n    <tr>\n      <th>65</th>\n      <td>Yoga</td>\n      <td>1.000</td>\n      <td>1.000</td>\n      <td>0.500</td>\n      <td>1.000</td>\n      <td>1.000</td>\n      <td>1.000</td>\n      <td>1.000</td>\n    </tr>\n    <tr>\n      <th>66</th>\n      <td>Crop</td>\n      <td>1.000</td>\n      <td>1.000</td>\n      <td>1.000</td>\n      <td>1.000</td>\n      <td>1.000</td>\n      <td>1.000</td>\n      <td>1.000</td>\n    </tr>\n    <tr>\n      <th>67</th>\n      <td>EOGHorizontalSignal</td>\n      <td>0.500</td>\n      <td>0.250</td>\n      <td>0.250</td>\n      <td>0.250</td>\n      <td>0.250</td>\n      <td>0.250</td>\n      <td>0.500</td>\n    </tr>\n    <tr>\n      <th>68</th>\n      <td>EOGVerticalSignal</td>\n      <td>0.667</td>\n      <td>1.000</td>\n      <td>1.000</td>\n      <td>1.000</td>\n      <td>1.000</td>\n      <td>1.000</td>\n      <td>0.667</td>\n    </tr>\n    <tr>\n      <th>69</th>\n      <td>FreezerRegularTrain</td>\n      <td>0.500</td>\n      <td>0.500</td>\n      <td>0.500</td>\n      <td>0.250</td>\n      <td>0.500</td>\n      <td>0.500</td>\n      <td>0.750</td>\n    </tr>\n    <tr>\n      <th>70</th>\n      <td>Ham</td>\n      <td>0.333</td>\n      <td>0.500</td>\n      <td>0.250</td>\n      <td>0.500</td>\n      <td>0.250</td>\n      <td>0.500</td>\n      <td>0.500</td>\n    </tr>\n    <tr>\n      <th>71</th>\n      <td>MelbournePedestrian</td>\n      <td>1.000</td>\n      <td>1.000</td>\n      <td>1.000</td>\n      <td>1.000</td>\n      <td>1.000</td>\n      <td>1.000</td>\n      <td>1.000</td>\n    </tr>\n    <tr>\n      <th>72</th>\n      <td>MiddlePhalanxOutlineAgeGroup</td>\n      <td>0.889</td>\n      <td>0.800</td>\n      <td>0.800</td>\n      <td>0.889</td>\n      <td>0.800</td>\n      <td>0.800</td>\n      <td>0.889</td>\n    </tr>\n    <tr>\n      <th>73</th>\n      <td>MiddlePhalanxOutlineCorrect</td>\n      <td>0.750</td>\n      <td>0.750</td>\n      <td>0.750</td>\n      <td>0.750</td>\n      <td>0.750</td>\n      <td>0.750</td>\n      <td>0.500</td>\n    </tr>\n    <tr>\n      <th>74</th>\n      <td>PowerCons</td>\n      <td>0.750</td>\n      <td>0.750</td>\n      <td>1.000</td>\n      <td>0.750</td>\n      <td>0.750</td>\n      <td>0.286</td>\n      <td>0.286</td>\n    </tr>\n    <tr>\n      <th>75</th>\n      <td>ProximalPhalanxOutlineCorrect</td>\n      <td>0.500</td>\n      <td>0.500</td>\n      <td>0.500</td>\n      <td>0.500</td>\n      <td>0.500</td>\n      <td>0.500</td>\n      <td>0.250</td>\n    </tr>\n    <tr>\n      <th>76</th>\n      <td>Strawberry</td>\n      <td>0.500</td>\n      <td>0.500</td>\n      <td>0.250</td>\n      <td>0.500</td>\n      <td>0.500</td>\n      <td>0.250</td>\n      <td>0.250</td>\n    </tr>\n    <tr>\n      <th>77</th>\n      <td>Chinatown</td>\n      <td>1.000</td>\n      <td>1.000</td>\n      <td>1.000</td>\n      <td>1.000</td>\n      <td>0.000</td>\n      <td>1.000</td>\n      <td>1.000</td>\n    </tr>\n    <tr>\n      <th>78</th>\n      <td>DodgerLoopDay</td>\n      <td>1.000</td>\n      <td>1.000</td>\n      <td>1.000</td>\n      <td>1.000</td>\n      <td>1.000</td>\n      <td>1.000</td>\n      <td>1.000</td>\n    </tr>\n    <tr>\n      <th>79</th>\n      <td>Herring</td>\n      <td>1.000</td>\n      <td>1.000</td>\n      <td>1.000</td>\n      <td>1.000</td>\n      <td>1.000</td>\n      <td>1.000</td>\n      <td>1.000</td>\n    </tr>\n    <tr>\n      <th>80</th>\n      <td>MiddlePhalanxTW</td>\n      <td>1.000</td>\n      <td>1.000</td>\n      <td>1.000</td>\n      <td>1.000</td>\n      <td>1.000</td>\n      <td>1.000</td>\n      <td>1.000</td>\n    </tr>\n    <tr>\n      <th>81</th>\n      <td>ShapeletSim</td>\n      <td>1.000</td>\n      <td>1.000</td>\n      <td>1.000</td>\n      <td>1.000</td>\n      <td>1.000</td>\n      <td>1.000</td>\n      <td>1.000</td>\n    </tr>\n    <tr>\n      <th>82</th>\n      <td>UMD</td>\n      <td>1.000</td>\n      <td>1.000</td>\n      <td>1.000</td>\n      <td>1.000</td>\n      <td>1.000</td>\n      <td>1.000</td>\n      <td>1.000</td>\n    </tr>\n  </tbody>\n</table>\n</div>"
     },
     "execution_count": 4,
     "metadata": {},
     "output_type": "execute_result"
    }
   ],
   "source": [
    "wsd = [\"Human\", \"FFT\", \"ACF\", \"SuSS\", \"MWF\", \"Autoperiod\", \"RobustPeriod\"] # \n",
    "\n",
    "methods = list()\n",
    "\n",
    "for algo in wsd:\n",
    "    candidate_name = f\"clasp_{algo}\"\n",
    "    methods.append((algo, f\"{candidate_name}.csv\"))\n",
    "\n",
    "for idx, (name, file_name) in enumerate(methods):\n",
    "    methods[idx] = name, pd.read_csv(f\"../experiments/segmentation/clasp/{file_name}\")\n",
    "    \n",
    "df_scores = pd.DataFrame()\n",
    "\n",
    "for name, df in methods:\n",
    "    df_scores[\"name\"] = df.name\n",
    "    df_scores[name] = df[eval_score]\n",
    "    \n",
    "df_scores"
   ]
  },
  {
   "cell_type": "markdown",
   "metadata": {},
   "source": [
    "Let's calculate the mean/std score."
   ]
  },
  {
   "cell_type": "code",
   "execution_count": 5,
   "metadata": {},
   "outputs": [
    {
     "name": "stderr",
     "output_type": "stream",
     "text": [
      "/var/folders/5_/fv_bzq1n4n76j6l_jqgndj6c0000gn/T/ipykernel_4081/3278697802.py:1: FutureWarning: Dropping of nuisance columns in DataFrame reductions (with 'numeric_only=None') is deprecated; in a future version this will raise TypeError.  Select only valid columns before calling the reduction.\n",
      "  df_scores.mean(axis=0)\n"
     ]
    },
    {
     "data": {
      "text/plain": "Human           0.885012\nFFT             0.780000\nACF             0.691181\nSuSS            0.757096\nMWF             0.729386\nAutoperiod      0.706349\nRobustPeriod    0.693012\ndtype: float64"
     },
     "execution_count": 5,
     "metadata": {},
     "output_type": "execute_result"
    }
   ],
   "source": [
    "df_scores.mean(axis=0)"
   ]
  },
  {
   "cell_type": "code",
   "execution_count": 6,
   "metadata": {},
   "outputs": [
    {
     "name": "stderr",
     "output_type": "stream",
     "text": [
      "/var/folders/5_/fv_bzq1n4n76j6l_jqgndj6c0000gn/T/ipykernel_4081/4283968224.py:1: FutureWarning: Dropping of nuisance columns in DataFrame reductions (with 'numeric_only=None') is deprecated; in a future version this will raise TypeError.  Select only valid columns before calling the reduction.\n",
      "  df_scores.std(axis=0)\n"
     ]
    },
    {
     "data": {
      "text/plain": "Human           0.201007\nFFT             0.249677\nACF             0.255222\nSuSS            0.254480\nMWF             0.292705\nAutoperiod      0.285599\nRobustPeriod    0.309036\ndtype: float64"
     },
     "execution_count": 6,
     "metadata": {},
     "output_type": "execute_result"
    }
   ],
   "source": [
    "df_scores.std(axis=0)"
   ]
  },
  {
   "cell_type": "markdown",
   "metadata": {},
   "source": [
    "Let's compute the wins per method."
   ]
  },
  {
   "cell_type": "code",
   "execution_count": 7,
   "metadata": {},
   "outputs": [],
   "source": [
    "ranks = df_scores.rank(1, method = 'min', ascending=False)\n",
    "means = np.array(ranks.mean(axis=0))"
   ]
  },
  {
   "cell_type": "code",
   "execution_count": 8,
   "metadata": {
    "scrolled": true
   },
   "outputs": [
    {
     "name": "stdout",
     "output_type": "stream",
     "text": [
      "Human:wins=72 rank=1.3494\n",
      "FFT:wins=50 rank=1.84337\n",
      "ACF:wins=36 rank=2.80723\n",
      "SuSS:wins=49 rank=2.10843\n",
      "MWF:wins=45 rank=2.20482\n",
      "Autoperiod:wins=40 rank=2.48193\n",
      "RobustPeriod:wins=42 rank=2.86747\n"
     ]
    }
   ],
   "source": [
    "for mean, name in zip(means, df_scores.columns[1:]):\n",
    "    print(f\"{name}:wins={ranks[ranks[name] == 1].shape[0]} rank={np.round(mean, 5)}\")"
   ]
  },
  {
   "cell_type": "markdown",
   "metadata": {},
   "source": [
    "Let's plot and output the ranks."
   ]
  },
  {
   "cell_type": "code",
   "execution_count": 10,
   "metadata": {},
   "outputs": [
    {
     "data": {
      "text/plain": "<Figure size 360x147.6 with 1 Axes>",
      "image/png": "[encoded data removed]"
     },
     "metadata": {},
     "output_type": "display_data"
    }
   ],
   "source": [
    "cd = Orange.evaluation.scoring.compute_CD(means, df_scores.shape[0])\n",
    "Orange.evaluation.scoring.graph_ranks(means, df_scores.columns[1:], cd=cd, highv=3, width=5, reverse=True, textspace=1, )\n",
    "plt.title(\"ClaSP\", fontsize=16)\n",
    "plt.show()"
   ]
  },
  {
   "cell_type": "markdown",
   "metadata": {},
   "source": [
    "Let's compute wins/losses against Human."
   ]
  },
  {
   "cell_type": "code",
   "execution_count": 12,
   "metadata": {},
   "outputs": [
    {
     "name": "stdout",
     "output_type": "stream",
     "text": [
      "Human vs FFT: (wins/ties/losses): 26/53/4\n",
      "Human vs ACF: (wins/ties/losses): 44/32/7\n",
      "Human vs SuSS: (wins/ties/losses): 29/50/4\n",
      "Human vs MWF: (wins/ties/losses): 33/45/5\n",
      "Human vs Autoperiod: (wins/ties/losses): 37/42/4\n",
      "Human vs RobustPeriod: (wins/ties/losses): 35/43/5\n"
     ]
    }
   ],
   "source": [
    "selection = \"Human\"\n",
    "\n",
    "for rival in df_scores.columns[1:]:\n",
    "    if rival == selection: continue\n",
    "    \n",
    "    df_pair = df_scores[[selection, rival]]\n",
    "    pair_ranks = df_pair.rank(1, method = 'min', ascending=False)\n",
    "    \n",
    "    wins = pair_ranks[(pair_ranks[selection] == 1) & (pair_ranks[rival] == 2)].shape[0]\n",
    "    losses = pair_ranks[(pair_ranks[selection] == 2) & (pair_ranks[rival] == 1)].shape[0]\n",
    "    ties = pair_ranks[(pair_ranks[selection] == 1) & (pair_ranks[rival] == 1)].shape[0]\n",
    "    \n",
    "    assert wins + losses + ties == pair_ranks.shape[0]\n",
    "    \n",
    "    print(f\"{selection} vs {rival}: (wins/ties/losses): {wins}/{ties}/{losses}\")"
   ]
  },
  {
   "cell_type": "markdown",
   "source": [
    "Lets plot the correlation of the window sizes from different techniques."
   ],
   "metadata": {
    "collapsed": false,
    "pycharm": {
     "name": "#%% md\n"
    }
   }
  },
  {
   "cell_type": "code",
   "execution_count": 13,
   "metadata": {},
   "outputs": [],
   "source": [
    "window_sizes = pd.read_csv(\"../experiments/segmentation/window_sizes.csv\")"
   ]
  },
  {
   "cell_type": "code",
   "execution_count": 14,
   "metadata": {},
   "outputs": [
    {
     "data": {
      "text/plain": "<Figure size 360x216 with 2 Axes>",
      "image/png": "[encoded data removed]"
     },
     "metadata": {},
     "output_type": "display_data"
    }
   ],
   "source": [
    "font_size = 14\n",
    "_, ax = plt.subplots(figsize=(5,3))\n",
    "\n",
    "from sklearn.metrics import pairwise_distances\n",
    "from scipy.stats import pearsonr\n",
    "\n",
    "W = [window_sizes.iloc[:,i].to_numpy() for i in range(2,window_sizes.columns.shape[0])]\n",
    "L = list(window_sizes.columns[2:])\n",
    "\n",
    "for idx, l in enumerate(L):\n",
    "    if l == \"Autoperiod\":\n",
    "        L[idx] = \"AP\"\n",
    "    if l == \"RobustPeriod\":\n",
    "        L[idx] = \"RP\"\n",
    "\n",
    "corr = pairwise_distances(W, metric=lambda x,y: pearsonr(x,y)[0])\n",
    "\n",
    "sns.set(font_scale=1.2)\n",
    "ax = sns.heatmap(corr)\n",
    "\n",
    "ax.set_xticklabels(L, rotation=35, fontsize=font_size)\n",
    "ax.set_yticklabels(L, rotation=0, fontsize=font_size)\n",
    "\n",
    "plt.show()"
   ]
  },
  {
   "cell_type": "markdown",
   "metadata": {},
   "source": [
    "#### "
   ]
  }
 ],
 "metadata": {
  "kernelspec": {
   "display_name": "Python 3 (ipykernel)",
   "language": "python",
   "name": "python3"
  },
  "language_info": {
   "codemirror_mode": {
    "name": "ipython",
    "version": 3
   },
   "file_extension": ".py",
   "mimetype": "text/x-python",
   "name": "python",
   "nbconvert_exporter": "python",
   "pygments_lexer": "ipython3",
   "version": "3.8.12"
  }
 },
 "nbformat": 4,
 "nbformat_minor": 4
}